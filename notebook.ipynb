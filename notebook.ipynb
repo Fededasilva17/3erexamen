{
 "cells": [
  {
   "cell_type": "markdown",
   "metadata": {},
   "source": [
    "**Examen de Certificación – Intento 3**\n",
    "\n",
    "Fundamentos de Data Science\n",
    "\n",
    "Analizando la Rotación de Clientes en Telecomunicaciones"
   ]
  },
  {
   "cell_type": "markdown",
   "metadata": {},
   "source": [
    "**1. Limpieza de datos con Python:**"
   ]
  },
  {
   "cell_type": "code",
   "execution_count": 5,
   "metadata": {},
   "outputs": [
    {
     "data": {
      "text/html": [
       "<div>\n",
       "<style scoped>\n",
       "    .dataframe tbody tr th:only-of-type {\n",
       "        vertical-align: middle;\n",
       "    }\n",
       "\n",
       "    .dataframe tbody tr th {\n",
       "        vertical-align: top;\n",
       "    }\n",
       "\n",
       "    .dataframe thead th {\n",
       "        text-align: right;\n",
       "    }\n",
       "</style>\n",
       "<table border=\"1\" class=\"dataframe\">\n",
       "  <thead>\n",
       "    <tr style=\"text-align: right;\">\n",
       "      <th></th>\n",
       "      <th>customerID</th>\n",
       "      <th>gender</th>\n",
       "      <th>SeniorCitizen</th>\n",
       "      <th>Partner</th>\n",
       "      <th>Dependents</th>\n",
       "      <th>tenure</th>\n",
       "      <th>PhoneService</th>\n",
       "      <th>MultipleLines</th>\n",
       "      <th>InternetService</th>\n",
       "      <th>OnlineSecurity</th>\n",
       "      <th>...</th>\n",
       "      <th>DeviceProtection</th>\n",
       "      <th>TechSupport</th>\n",
       "      <th>StreamingTV</th>\n",
       "      <th>StreamingMovies</th>\n",
       "      <th>Contract</th>\n",
       "      <th>PaperlessBilling</th>\n",
       "      <th>PaymentMethod</th>\n",
       "      <th>MonthlyCharges</th>\n",
       "      <th>TotalCharges</th>\n",
       "      <th>Churn</th>\n",
       "    </tr>\n",
       "  </thead>\n",
       "  <tbody>\n",
       "    <tr>\n",
       "      <th>0</th>\n",
       "      <td>7590-VHVEG</td>\n",
       "      <td>Female</td>\n",
       "      <td>0</td>\n",
       "      <td>Yes</td>\n",
       "      <td>No</td>\n",
       "      <td>1</td>\n",
       "      <td>No</td>\n",
       "      <td>No phone service</td>\n",
       "      <td>DSL</td>\n",
       "      <td>No</td>\n",
       "      <td>...</td>\n",
       "      <td>No</td>\n",
       "      <td>No</td>\n",
       "      <td>No</td>\n",
       "      <td>No</td>\n",
       "      <td>Month-to-month</td>\n",
       "      <td>Yes</td>\n",
       "      <td>Electronic check</td>\n",
       "      <td>29.85</td>\n",
       "      <td>29.85</td>\n",
       "      <td>No</td>\n",
       "    </tr>\n",
       "    <tr>\n",
       "      <th>1</th>\n",
       "      <td>5575-GNVDE</td>\n",
       "      <td>Male</td>\n",
       "      <td>0</td>\n",
       "      <td>No</td>\n",
       "      <td>No</td>\n",
       "      <td>34</td>\n",
       "      <td>Yes</td>\n",
       "      <td>No</td>\n",
       "      <td>DSL</td>\n",
       "      <td>Yes</td>\n",
       "      <td>...</td>\n",
       "      <td>Yes</td>\n",
       "      <td>No</td>\n",
       "      <td>No</td>\n",
       "      <td>No</td>\n",
       "      <td>One year</td>\n",
       "      <td>No</td>\n",
       "      <td>Mailed check</td>\n",
       "      <td>56.95</td>\n",
       "      <td>1889.5</td>\n",
       "      <td>No</td>\n",
       "    </tr>\n",
       "    <tr>\n",
       "      <th>2</th>\n",
       "      <td>3668-QPYBK</td>\n",
       "      <td>Male</td>\n",
       "      <td>0</td>\n",
       "      <td>No</td>\n",
       "      <td>No</td>\n",
       "      <td>2</td>\n",
       "      <td>Yes</td>\n",
       "      <td>No</td>\n",
       "      <td>DSL</td>\n",
       "      <td>Yes</td>\n",
       "      <td>...</td>\n",
       "      <td>No</td>\n",
       "      <td>No</td>\n",
       "      <td>No</td>\n",
       "      <td>No</td>\n",
       "      <td>Month-to-month</td>\n",
       "      <td>Yes</td>\n",
       "      <td>Mailed check</td>\n",
       "      <td>53.85</td>\n",
       "      <td>108.15</td>\n",
       "      <td>Yes</td>\n",
       "    </tr>\n",
       "    <tr>\n",
       "      <th>3</th>\n",
       "      <td>7795-CFOCW</td>\n",
       "      <td>Male</td>\n",
       "      <td>0</td>\n",
       "      <td>No</td>\n",
       "      <td>No</td>\n",
       "      <td>45</td>\n",
       "      <td>No</td>\n",
       "      <td>No phone service</td>\n",
       "      <td>DSL</td>\n",
       "      <td>Yes</td>\n",
       "      <td>...</td>\n",
       "      <td>Yes</td>\n",
       "      <td>Yes</td>\n",
       "      <td>No</td>\n",
       "      <td>No</td>\n",
       "      <td>One year</td>\n",
       "      <td>No</td>\n",
       "      <td>Bank transfer (automatic)</td>\n",
       "      <td>42.30</td>\n",
       "      <td>1840.75</td>\n",
       "      <td>No</td>\n",
       "    </tr>\n",
       "    <tr>\n",
       "      <th>4</th>\n",
       "      <td>9237-HQITU</td>\n",
       "      <td>Female</td>\n",
       "      <td>0</td>\n",
       "      <td>No</td>\n",
       "      <td>No</td>\n",
       "      <td>2</td>\n",
       "      <td>Yes</td>\n",
       "      <td>No</td>\n",
       "      <td>Fiber optic</td>\n",
       "      <td>No</td>\n",
       "      <td>...</td>\n",
       "      <td>No</td>\n",
       "      <td>No</td>\n",
       "      <td>No</td>\n",
       "      <td>No</td>\n",
       "      <td>Month-to-month</td>\n",
       "      <td>Yes</td>\n",
       "      <td>Electronic check</td>\n",
       "      <td>70.70</td>\n",
       "      <td>151.65</td>\n",
       "      <td>Yes</td>\n",
       "    </tr>\n",
       "  </tbody>\n",
       "</table>\n",
       "<p>5 rows × 21 columns</p>\n",
       "</div>"
      ],
      "text/plain": [
       "   customerID  gender  SeniorCitizen Partner Dependents  tenure PhoneService  \\\n",
       "0  7590-VHVEG  Female              0     Yes         No       1           No   \n",
       "1  5575-GNVDE    Male              0      No         No      34          Yes   \n",
       "2  3668-QPYBK    Male              0      No         No       2          Yes   \n",
       "3  7795-CFOCW    Male              0      No         No      45           No   \n",
       "4  9237-HQITU  Female              0      No         No       2          Yes   \n",
       "\n",
       "      MultipleLines InternetService OnlineSecurity  ... DeviceProtection  \\\n",
       "0  No phone service             DSL             No  ...               No   \n",
       "1                No             DSL            Yes  ...              Yes   \n",
       "2                No             DSL            Yes  ...               No   \n",
       "3  No phone service             DSL            Yes  ...              Yes   \n",
       "4                No     Fiber optic             No  ...               No   \n",
       "\n",
       "  TechSupport StreamingTV StreamingMovies        Contract PaperlessBilling  \\\n",
       "0          No          No              No  Month-to-month              Yes   \n",
       "1          No          No              No        One year               No   \n",
       "2          No          No              No  Month-to-month              Yes   \n",
       "3         Yes          No              No        One year               No   \n",
       "4          No          No              No  Month-to-month              Yes   \n",
       "\n",
       "               PaymentMethod MonthlyCharges  TotalCharges Churn  \n",
       "0           Electronic check          29.85         29.85    No  \n",
       "1               Mailed check          56.95        1889.5    No  \n",
       "2               Mailed check          53.85        108.15   Yes  \n",
       "3  Bank transfer (automatic)          42.30       1840.75    No  \n",
       "4           Electronic check          70.70        151.65   Yes  \n",
       "\n",
       "[5 rows x 21 columns]"
      ]
     },
     "execution_count": 5,
     "metadata": {},
     "output_type": "execute_result"
    }
   ],
   "source": [
    "import pandas as pd\n",
    "df=pd.read_csv(\"WA_Fn-UseC_-Telco-Customer-Churn.csv\")\n",
    "df.head()"
   ]
  },
  {
   "cell_type": "markdown",
   "metadata": {},
   "source": [
    "-Identificar y solucionar cualquier valor duplicado."
   ]
  },
  {
   "cell_type": "code",
   "execution_count": 16,
   "metadata": {},
   "outputs": [
    {
     "name": "stdout",
     "output_type": "stream",
     "text": [
      "(7043, 21)\n",
      "(7043, 21)\n"
     ]
    }
   ],
   "source": [
    "print(df.shape)\n",
    "df=df.drop_duplicates()\n",
    "print(df.shape) #No hay duplicados"
   ]
  },
  {
   "cell_type": "markdown",
   "metadata": {},
   "source": [
    "- Asegurarse de que todas las columnas coincidan con los tipos de datos indicados en el diccionario de datos.\n",
    "- Identificar y solucionar cualquier valor faltante en el dataset. Rellenar los valores faltantes con un marcador adecuado para el tipo de dato.\n"
   ]
  },
  {
   "cell_type": "code",
   "execution_count": 18,
   "metadata": {},
   "outputs": [
    {
     "name": "stdout",
     "output_type": "stream",
     "text": [
      "<class 'pandas.core.frame.DataFrame'>\n",
      "RangeIndex: 7043 entries, 0 to 7042\n",
      "Data columns (total 21 columns):\n",
      " #   Column            Non-Null Count  Dtype  \n",
      "---  ------            --------------  -----  \n",
      " 0   customerID        7043 non-null   object \n",
      " 1   gender            7043 non-null   object \n",
      " 2   SeniorCitizen     7043 non-null   int64  \n",
      " 3   Partner           7043 non-null   object \n",
      " 4   Dependents        7043 non-null   object \n",
      " 5   tenure            7043 non-null   int64  \n",
      " 6   PhoneService      7043 non-null   object \n",
      " 7   MultipleLines     7043 non-null   object \n",
      " 8   InternetService   7043 non-null   object \n",
      " 9   OnlineSecurity    7043 non-null   object \n",
      " 10  OnlineBackup      7043 non-null   object \n",
      " 11  DeviceProtection  7043 non-null   object \n",
      " 12  TechSupport       7043 non-null   object \n",
      " 13  StreamingTV       7043 non-null   object \n",
      " 14  StreamingMovies   7043 non-null   object \n",
      " 15  Contract          7043 non-null   object \n",
      " 16  PaperlessBilling  7043 non-null   object \n",
      " 17  PaymentMethod     7043 non-null   object \n",
      " 18  MonthlyCharges    7043 non-null   float64\n",
      " 19  TotalCharges      7043 non-null   object \n",
      " 20  Churn             7043 non-null   object \n",
      "dtypes: float64(1), int64(2), object(18)\n",
      "memory usage: 1.1+ MB\n"
     ]
    }
   ],
   "source": [
    "df.info()"
   ]
  },
  {
   "cell_type": "code",
   "execution_count": 35,
   "metadata": {},
   "outputs": [
    {
     "name": "stdout",
     "output_type": "stream",
     "text": [
      "Advertencia: No se pudo convertir la columna 'TotalCharges' a float64 debido a datos inconsistentes.\n",
      "Este es el nuevo esquema de tipos de datos:\n",
      "customerID          string[python]\n",
      "gender              string[python]\n",
      "SeniorCitizen                int64\n",
      "Partner             string[python]\n",
      "Dependents          string[python]\n",
      "tenure                       int64\n",
      "PhoneService        string[python]\n",
      "MultipleLines       string[python]\n",
      "InternetService     string[python]\n",
      "OnlineSecurity      string[python]\n",
      "OnlineBackup        string[python]\n",
      "DeviceProtection    string[python]\n",
      "TechSupport         string[python]\n",
      "StreamingTV         string[python]\n",
      "StreamingMovies     string[python]\n",
      "Contract            string[python]\n",
      "PaperlessBilling    string[python]\n",
      "PaymentMethod       string[python]\n",
      "MonthlyCharges             float64\n",
      "TotalCharges        string[python]\n",
      "Churn               string[python]\n",
      "dtype: object\n",
      "customerID          string[python]\n",
      "gender              string[python]\n",
      "SeniorCitizen                int64\n",
      "Partner             string[python]\n",
      "Dependents          string[python]\n",
      "tenure                       int64\n",
      "PhoneService        string[python]\n",
      "MultipleLines       string[python]\n",
      "InternetService     string[python]\n",
      "OnlineSecurity      string[python]\n",
      "OnlineBackup        string[python]\n",
      "DeviceProtection    string[python]\n",
      "TechSupport         string[python]\n",
      "StreamingTV         string[python]\n",
      "StreamingMovies     string[python]\n",
      "Contract            string[python]\n",
      "PaperlessBilling    string[python]\n",
      "PaymentMethod       string[python]\n",
      "MonthlyCharges             float64\n",
      "TotalCharges        string[python]\n",
      "Churn               string[python]\n",
      "dtype: object\n"
     ]
    }
   ],
   "source": [
    "diccionario = {\n",
    "    'customerID': 'string',\n",
    "    'gender': 'string',\n",
    "    'SeniorCitizen': 'int64',      # Es un indicador binario, puede ser tratado como entero\n",
    "    'Partner': 'string',           # Texto, ya que son categorías como \"Yes\" y \"No\"\n",
    "    'Dependents': 'string',        # Texto, ya que son categorías como \"Yes\" y \"No\"\n",
    "    'tenure': 'int64',             # Parece indicar un número entero de meses o años de servicio\n",
    "    'PhoneService': 'string',      # Texto, con categorías \"Yes\", \"No\", o \"No phone service\"\n",
    "    'MultipleLines': 'string',     # Texto, con categorías \"Yes\", \"No\", o \"No phone service\"\n",
    "    'InternetService': 'string',   # Texto, con categorías como \"DSL\", \"Fiber optic\", o \"No\"\n",
    "    'OnlineSecurity': 'string',    # Texto, con categorías como \"Yes\" y \"No\"\n",
    "    'OnlineBackup': 'string',      # Texto, con categorías como \"Yes\" y \"No\"\n",
    "    'DeviceProtection': 'string',  # Texto, con categorías como \"Yes\" y \"No\"\n",
    "    'TechSupport': 'string',       # Texto, con categorías como \"Yes\" y \"No\"\n",
    "    'StreamingTV': 'string',       # Texto, con categorías como \"Yes\" y \"No\"\n",
    "    'StreamingMovies': 'string',   # Texto, con categorías como \"Yes\" y \"No\"\n",
    "    'Contract': 'string',          # Texto, con categorías como \"Month-to-month\", etc.\n",
    "    'PaperlessBilling': 'string',  # Texto, con categorías \"Yes\" y \"No\"\n",
    "    'PaymentMethod': 'string',     # Texto, con varias opciones de métodos de pago\n",
    "    'MonthlyCharges': 'float64',   # Parece un valor decimal, adecuado para float\n",
    "    'TotalCharges': 'float64',     # También parece un valor decimal\n",
    "    'Churn': 'string'              # Texto, con categorías \"Yes\" y \"No\"\n",
    "}\n",
    "for columna, tipo in diccionario.items():\n",
    "    if columna in df.columns:\n",
    "        try:\n",
    "            df[columna] = df[columna].astype(tipo)\n",
    "        except ValueError:\n",
    "            print(f\"Advertencia: No se pudo convertir la columna '{columna}' a {tipo} debido a datos inconsistentes.\")\n",
    "            # Opcionalmente podrías usar `pd.to_numeric` o `pd.to_datetime` según el tipo, con `errors='coerce'`\n",
    "\n",
    "print(f\"Este es el nuevo esquema de tipos de datos:\\n{df.dtypes}\")\n",
    "df[pd.to_numeric(df['TotalCharges'], errors='coerce').isnull()]\n",
    "print(df.dtypes)\n"
   ]
  },
  {
   "cell_type": "code",
   "execution_count": 36,
   "metadata": {},
   "outputs": [
    {
     "data": {
      "text/plain": [
       "customerID                         4472-LVYGI\n",
       "gender                                 Female\n",
       "SeniorCitizen                               0\n",
       "Partner                                   Yes\n",
       "Dependents                                Yes\n",
       "tenure                                      0\n",
       "PhoneService                               No\n",
       "MultipleLines                No phone service\n",
       "InternetService                           DSL\n",
       "OnlineSecurity                            Yes\n",
       "OnlineBackup                               No\n",
       "DeviceProtection                          Yes\n",
       "TechSupport                               Yes\n",
       "StreamingTV                               Yes\n",
       "StreamingMovies                            No\n",
       "Contract                             Two year\n",
       "PaperlessBilling                          Yes\n",
       "PaymentMethod       Bank transfer (automatic)\n",
       "MonthlyCharges                          52.55\n",
       "TotalCharges                                 \n",
       "Churn                                      No\n",
       "Name: 488, dtype: object"
      ]
     },
     "execution_count": 36,
     "metadata": {},
     "output_type": "execute_result"
    }
   ],
   "source": [
    "df.iloc[488]\n"
   ]
  },
  {
   "cell_type": "code",
   "execution_count": 41,
   "metadata": {},
   "outputs": [
    {
     "data": {
      "text/plain": [
       "' '"
      ]
     },
     "execution_count": 41,
     "metadata": {},
     "output_type": "execute_result"
    }
   ],
   "source": [
    "df.iloc[488]['TotalCharges']"
   ]
  },
  {
   "cell_type": "code",
   "execution_count": 42,
   "metadata": {},
   "outputs": [],
   "source": [
    "df = df[df['TotalCharges']!= ' ']"
   ]
  },
  {
   "cell_type": "code",
   "execution_count": 43,
   "metadata": {},
   "outputs": [
    {
     "data": {
      "text/plain": [
       "(7032, 21)"
      ]
     },
     "execution_count": 43,
     "metadata": {},
     "output_type": "execute_result"
    }
   ],
   "source": [
    "df.shape"
   ]
  },
  {
   "cell_type": "code",
   "execution_count": 44,
   "metadata": {},
   "outputs": [
    {
     "name": "stderr",
     "output_type": "stream",
     "text": [
      "C:\\Users\\feded\\AppData\\Local\\Temp\\ipykernel_4900\\860108735.py:1: SettingWithCopyWarning: \n",
      "A value is trying to be set on a copy of a slice from a DataFrame.\n",
      "Try using .loc[row_indexer,col_indexer] = value instead\n",
      "\n",
      "See the caveats in the documentation: https://pandas.pydata.org/pandas-docs/stable/user_guide/indexing.html#returning-a-view-versus-a-copy\n",
      "  df['TotalCharges'] = df['TotalCharges'].astype(float)\n"
     ]
    }
   ],
   "source": [
    "df['TotalCharges'] = df['TotalCharges'].astype(float)\n"
   ]
  },
  {
   "cell_type": "code",
   "execution_count": 45,
   "metadata": {},
   "outputs": [
    {
     "data": {
      "text/plain": [
       "customerID          string[python]\n",
       "gender              string[python]\n",
       "SeniorCitizen                int64\n",
       "Partner             string[python]\n",
       "Dependents          string[python]\n",
       "tenure                       int64\n",
       "PhoneService        string[python]\n",
       "MultipleLines       string[python]\n",
       "InternetService     string[python]\n",
       "OnlineSecurity      string[python]\n",
       "OnlineBackup        string[python]\n",
       "DeviceProtection    string[python]\n",
       "TechSupport         string[python]\n",
       "StreamingTV         string[python]\n",
       "StreamingMovies     string[python]\n",
       "Contract            string[python]\n",
       "PaperlessBilling    string[python]\n",
       "PaymentMethod       string[python]\n",
       "MonthlyCharges             float64\n",
       "TotalCharges               float64\n",
       "Churn               string[python]\n",
       "dtype: object"
      ]
     },
     "execution_count": 45,
     "metadata": {},
     "output_type": "execute_result"
    }
   ],
   "source": [
    "df.dtypes"
   ]
  },
  {
   "cell_type": "code",
   "execution_count": 46,
   "metadata": {},
   "outputs": [
    {
     "data": {
      "text/plain": [
       "customerID          0\n",
       "gender              0\n",
       "SeniorCitizen       0\n",
       "Partner             0\n",
       "Dependents          0\n",
       "tenure              0\n",
       "PhoneService        0\n",
       "MultipleLines       0\n",
       "InternetService     0\n",
       "OnlineSecurity      0\n",
       "OnlineBackup        0\n",
       "DeviceProtection    0\n",
       "TechSupport         0\n",
       "StreamingTV         0\n",
       "StreamingMovies     0\n",
       "Contract            0\n",
       "PaperlessBilling    0\n",
       "PaymentMethod       0\n",
       "MonthlyCharges      0\n",
       "TotalCharges        0\n",
       "Churn               0\n",
       "dtype: int64"
      ]
     },
     "execution_count": 46,
     "metadata": {},
     "output_type": "execute_result"
    }
   ],
   "source": [
    "df.isnull().sum()"
   ]
  },
  {
   "cell_type": "markdown",
   "metadata": {},
   "source": [
    "- Identificar y solucionar cualquier inconsistencia en los valores categóricos (ejemplo: cat, Cat, cats).\n",
    "- Identificar y solucionar cualquier punto de dato inapropiado o inusual (ejemplo: la edad no puede ser 325)."
   ]
  },
  {
   "cell_type": "code",
   "execution_count": 47,
   "metadata": {},
   "outputs": [
    {
     "name": "stdout",
     "output_type": "stream",
     "text": [
      "¿Hay elementos repetidos en la columna 'customerID'? False\n",
      "¿Hay elementos repetidos en la columna 'gender'? False\n",
      "¿Hay elementos repetidos en la columna 'SeniorCitizen'? False\n",
      "¿Hay elementos repetidos en la columna 'Partner'? False\n",
      "¿Hay elementos repetidos en la columna 'Dependents'? False\n",
      "¿Hay elementos repetidos en la columna 'tenure'? False\n",
      "¿Hay elementos repetidos en la columna 'PhoneService'? False\n",
      "¿Hay elementos repetidos en la columna 'MultipleLines'? False\n",
      "¿Hay elementos repetidos en la columna 'InternetService'? False\n",
      "¿Hay elementos repetidos en la columna 'OnlineSecurity'? False\n",
      "¿Hay elementos repetidos en la columna 'OnlineBackup'? False\n",
      "¿Hay elementos repetidos en la columna 'DeviceProtection'? False\n",
      "¿Hay elementos repetidos en la columna 'TechSupport'? False\n",
      "¿Hay elementos repetidos en la columna 'StreamingTV'? False\n",
      "¿Hay elementos repetidos en la columna 'StreamingMovies'? False\n",
      "¿Hay elementos repetidos en la columna 'Contract'? False\n",
      "¿Hay elementos repetidos en la columna 'PaperlessBilling'? False\n",
      "¿Hay elementos repetidos en la columna 'PaymentMethod'? False\n",
      "¿Hay elementos repetidos en la columna 'MonthlyCharges'? False\n",
      "¿Hay elementos repetidos en la columna 'TotalCharges'? False\n",
      "¿Hay elementos repetidos en la columna 'Churn'? False\n"
     ]
    }
   ],
   "source": [
    "# Obtener los nombres de las columnas del DataFrame\n",
    "columnas_a_verificar = df.columns.tolist()  # Convertir a lista\n",
    "\n",
    "for columna in columnas_a_verificar:\n",
    "    # Extraemos los diferentes tipos de entradas de la columna\n",
    "    unique_values = df[columna].unique().tolist()\n",
    "    \n",
    "    # Pongamos todos en minúsculas y sin espacios\n",
    "    unique_values = [str(value).lower().replace(\" \", \"\") for value in unique_values]\n",
    "    \n",
    "    # Verificar si hay elementos repetidos\n",
    "    repetido = len(unique_values) > len(set(unique_values))\n",
    "    \n",
    "    # Imprimir el resultado\n",
    "    print(f\"¿Hay elementos repetidos en la columna '{columna}'? {repetido}\") #Si es que se repite algun dato es porque hay alguno que está mal escrito"
   ]
  },
  {
   "cell_type": "code",
   "execution_count": 55,
   "metadata": {},
   "outputs": [
    {
     "name": "stdout",
     "output_type": "stream",
     "text": [
      "¿Hay años anómalos? False\n"
     ]
    }
   ],
   "source": [
    "malgenero=False\n",
    "malgenero = ((df['gender'] != \"Male\") & (df['gender'] != \"Female\")).any()\n",
    "print(f\"¿Hay años anómalos? {malgenero}\")"
   ]
  },
  {
   "cell_type": "markdown",
   "metadata": {},
   "source": [
    "**2. Exploración de datos con Python:**"
   ]
  },
  {
   "cell_type": "markdown",
   "metadata": {},
   "source": [
    "- Crear dos tipos diferentes de visualizaciones exploratorias univariadas. Cada visualización debe incluir una breve interpretación dentro del archivo de código"
   ]
  }
 ],
 "metadata": {
  "kernelspec": {
   "display_name": "Python 3",
   "language": "python",
   "name": "python3"
  },
  "language_info": {
   "codemirror_mode": {
    "name": "ipython",
    "version": 3
   },
   "file_extension": ".py",
   "mimetype": "text/x-python",
   "name": "python",
   "nbconvert_exporter": "python",
   "pygments_lexer": "ipython3",
   "version": "3.12.1"
  }
 },
 "nbformat": 4,
 "nbformat_minor": 2
}
